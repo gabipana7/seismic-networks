{
 "cells": [
  {
   "cell_type": "code",
   "execution_count": 1,
   "metadata": {},
   "outputs": [
    {
     "data": {
      "text/plain": [
       "add_properties (generic function with 1 method)"
      ]
     },
     "metadata": {},
     "output_type": "display_data"
    }
   ],
   "source": [
    "using Graphs, GraphIO, FileIO\n",
    "using CSV, DataFrames\n",
    "\n",
    "using GMT\n",
    "\n",
    "include(\"./src/cubes.jl\")\n",
    "include(\"./src/network.jl\")"
   ]
  },
  {
   "cell_type": "code",
   "execution_count": 2,
   "metadata": {},
   "outputs": [],
   "source": [
    "# Read data\n",
    "path = \"./data/\"\n",
    "region = \"romania\"\n",
    "filepath = path * region * \".csv\"\n",
    "\n",
    "mkpath(\"./maps/$region\")\n",
    "\n",
    "df = CSV.read(filepath, DataFrame);\n",
    "\n",
    "cell_size = 5\n",
    "minimum_magnitude = 4\n",
    "\n",
    "df_filtered = df[df.Magnitude .> minimum_magnitude,:] \n",
    "\n",
    "# Split into cubes\n",
    "df_filtered, df_filtered_cubes = region_cube_split(df_filtered,cell_size=cell_size,energyRelease=true);\n",
    "\n",
    "# Create network\n",
    "MG = create_network(df_filtered, df_filtered_cubes)\n",
    "connectivity = degree(MG);\n",
    "\n",
    "# edgelist_array = Matrix(edgelist);\n",
    "edgelist = collect(edges(MG)) |> DataFrame;"
   ]
  },
  {
   "cell_type": "code",
   "execution_count": 12,
   "metadata": {},
   "outputs": [
    {
     "name": "stderr",
     "output_type": "stream",
     "text": [
      "makecpt [WARNING]: Without inc in -T option, -Z has no effect (ignored)\n",
      "GMT [WARNING]: Remote dataset given to a data processing module but no registration was specified - default to gridline registration (if available)\n",
      "grdcut [WARNING]: (w - x_min) must equal (NX + eps) * x_inc), where NX is an integer and |eps| <= 0.0001.\n",
      "grdcut [WARNING]: w reset from 21.0817 to 21.075\n",
      "grdcut [WARNING]: (e - x_min) must equal (NX + eps) * x_inc), where NX is an integer and |eps| <= 0.0001.\n",
      "grdcut [WARNING]: e reset from 29.5723 to 29.575\n",
      "grdcut [WARNING]: (s - y_min) must equal (NY + eps) * y_inc), where NY is an integer and |eps| <= 0.0001.\n",
      "grdcut [WARNING]: s reset from 44.9225 to 44.9166666667\n",
      "grdcut [WARNING]: (n - y_min) must equal (NY + eps) * y_inc), where NY is an integer and |eps| <= 0.0001.\n",
      "grdcut [WARNING]: n reset from 47.9365 to 47.9416666667\n"
     ]
    }
   ],
   "source": [
    "# Get region's coordinates\n",
    "min_lon = minimum(df_filtered_cubes.cubeLongitude)\n",
    "max_lon = maximum(df_filtered_cubes.cubeLongitude)\n",
    "min_lat = minimum(df_filtered_cubes.cubeLatitude)\n",
    "max_lat = maximum(df_filtered_cubes.cubeLatitude);\n",
    "min_dep = minimum(df_filtered_cubes.cubeDepth);\n",
    "max_dep = maximum(df_filtered_cubes.cubeDepth);\n",
    "\n",
    "# Create the map coordinates\n",
    "map_coords = [min_lon,max_lon,min_lat,max_lat]\n",
    "map_coords_depth = [min_lon,max_lon,min_lat,max_lat,-max_dep,-min_dep]\n",
    "\n",
    "# Colormap for the region topography\n",
    "C_map = makecpt(cmap=:geo, range=(-8000,8000), continuous=true);\n",
    "# Relief map of the region\n",
    "relief_map = grdcut(\"@earth_relief_30s\", region=map_coords);"
   ]
  },
  {
   "cell_type": "code",
   "execution_count": 4,
   "metadata": {},
   "outputs": [
    {
     "data": {
      "text/plain": [
       "\"./networks/romania/side_5km/romania_side_5km_minmag_4.txt\""
      ]
     },
     "metadata": {},
     "output_type": "display_data"
    }
   ],
   "source": [
    "graph_path = \"./networks/$region/cell_size_$(cell_size)km/$(region)_cell_size_$(cell_size)km_minmag_$(minimum_magnitude).txt\""
   ]
  },
  {
   "cell_type": "code",
   "execution_count": 28,
   "metadata": {},
   "outputs": [
    {
     "data": {
      "text/plain": [
       "(135, 20)"
      ]
     },
     "metadata": {},
     "output_type": "display_data"
    }
   ],
   "source": [
    "# control marker size based on degree\n",
    "marker_size = connectivity ./10\n",
    "\n",
    "# control marker color by connectivity\n",
    "C_markers = makecpt(cmap=:seis, range=(minimum(connectivity),maximum(connectivity)), inverse=true);\n",
    "zcolor_control = connectivity;\n",
    "\n",
    "perspective = (135,20)"
   ]
  },
  {
   "cell_type": "code",
   "execution_count": 29,
   "metadata": {},
   "outputs": [],
   "source": [
    "# Basemap to define the axes\n",
    "basemap(limits=map_coords_depth, proj=:merc, zsize=6, frame=\"SEnwZ1+b xafg yafg zaf+lDepth(km)\", view=perspective)\n",
    "\n",
    "# Edges, plotted manually\n",
    "for i in range(1,nrow(edgelist))\n",
    "    line_coords = DataFrame(lats = [df_filtered_cubes.cubeLatitude[edgelist.src[i]],df_filtered_cubes.cubeLatitude[edgelist.dst[i]]],\n",
    "                    lons =[df_filtered_cubes.cubeLongitude[edgelist.src[i]],df_filtered_cubes.cubeLongitude[edgelist.dst[i]]],\n",
    "                    deps= [df_filtered_cubes.cubeDepth[edgelist.src[i]],df_filtered_cubes.cubeDepth[edgelist.dst[i]]])\n",
    "\n",
    "    plot3d!(line_coords.lons, line_coords.lats, -line_coords.deps, JZ=\"6c\", proj=:merc, pen=(:thinner,:black), alpha=50, view=perspective)\n",
    "end\n",
    "\n",
    "# Nodes\n",
    "scatter3!(df_filtered_cubes.cubeLongitude, df_filtered_cubes.cubeLatitude, -df_filtered_cubes.cubeDepth,\n",
    "limits=map_coords_depth,frame=\"SEnwZ1+b xafg yafg zaf\",proj=:merc, marker=:cube,markersize=0.1, #markersize=marker_size,\n",
    "cmap=C_markers, zcolor=connectivity, \n",
    "alpha=50, view=perspective)\n",
    "\n",
    "# Colorbar\n",
    "colorbar!(limits=map_coords, pos=(paper=(16,2.0), size=(8,0.5)), shade=0.4, xaxis=(annot=2,), frame=(xlabel=\"Degree\",),par=(MAP_LABEL_OFFSET=0.6,),view=(180,90))\n",
    "\n",
    "# Relief map\n",
    "grdview!(relief_map, proj=:merc, surftype=(image=1000,), \n",
    "cmap=C_map, zsize=0.5, alpha=10 ,yshift=5.6, view=perspective,\n",
    "savefig=\"./networks/$region/cell_size_$(cell_size)km/$(region)_cell_size_$(cell_size)km_minmag_$(minimum_magnitude).png\", \n",
    "show=true)"
   ]
  },
  {
   "cell_type": "code",
   "execution_count": 23,
   "metadata": {},
   "outputs": [],
   "source": []
  },
  {
   "cell_type": "code",
   "execution_count": 24,
   "metadata": {},
   "outputs": [],
   "source": [
    "using DelimitedFiles"
   ]
  },
  {
   "attachments": {},
   "cell_type": "markdown",
   "metadata": {},
   "source": [
    "## Motifs plot polygons"
   ]
  },
  {
   "cell_type": "code",
   "execution_count": 25,
   "metadata": {},
   "outputs": [
    {
     "data": {
      "text/plain": [
       "\"motifTriangle_romania_side_5km_minmag_4.csv\""
      ]
     },
     "metadata": {},
     "output_type": "display_data"
    }
   ],
   "source": [
    "motif=\"Triangle\"\n",
    "network_target_path =\"./networks/$region/cell_size_$(cell_size)km/\"\n",
    "motif_filename = \"motif$(motif)_$(region)_cell_size_$(cell_size)km_minmag_$(minimum_magnitude).csv\""
   ]
  },
  {
   "cell_type": "code",
   "execution_count": 26,
   "metadata": {},
   "outputs": [],
   "source": [
    "motifs = readdlm(network_target_path * motif_filename, ',', Int64);"
   ]
  },
  {
   "cell_type": "code",
   "execution_count": 42,
   "metadata": {},
   "outputs": [],
   "source": [
    "# Basemap to define the axes\n",
    "basemap(limits=map_coords_depth, proj=:merc, zsize=6, frame=\"SEnwZ1+b xafg yafg zaf+lDepth(km)\", view=(135,20))\n",
    "\n",
    "# Edges, plotted manually\n",
    "for i in range(1,nrow(edgelist))\n",
    "    line = DataFrame(lats = [df_filtered_cubes.cubeLatitude[edgelist.src[i]],df_filtered_cubes.cubeLatitude[edgelist.dst[i]]],\n",
    "                    lons =[df_filtered_cubes.cubeLongitude[edgelist.src[i]],df_filtered_cubes.cubeLongitude[edgelist.dst[i]]],\n",
    "                    deps= [df_filtered_cubes.cubeDepth[edgelist.src[i]],df_filtered_cubes.cubeDepth[edgelist.dst[i]]])\n",
    "\n",
    "    plot3d!(line.lons,line.lats,-line.deps, JZ=\"6c\", proj=:merc, pen=(:thinner,:black), alpha=50, view=(135,20))\n",
    "end\n",
    "\n",
    "# Nodes\n",
    "scatter3!(df_filtered_cubes.cubeLongitude, df_filtered_cubes.cubeLatitude, -df_filtered_cubes.cubeDepth,\n",
    "limits=map_coords_depth, frame=\"SEnwZ1+b xafg yafg zaf\",proj=:merc, marker=:cube,markersize=0.1, #markersize=marker_size,\n",
    "cmap=C_markers, zcolor=connectivity, \n",
    "alpha=50, view=(135,20))\n",
    "\n",
    "# Motifs\n",
    "for i in range(1,size(motifs,1))\n",
    "    motif = DataFrame(lats = [df_filtered_cubes.cubeLatitude[motifs[i,1]], df_filtered_cubes.cubeLatitude[motifs[i,2]], df_filtered_cubes.cubeLatitude[motifs[i,3]]],\n",
    "                    lons =[df_filtered_cubes.cubeLongitude[motifs[i,1]], df_filtered_cubes.cubeLongitude[motifs[i,2]], df_filtered_cubes.cubeLongitude[motifs[i,3]]],\n",
    "                    deps= [df_filtered_cubes.cubeDepth[motifs[i,1]], df_filtered_cubes.cubeDepth[motifs[i,2]], df_filtered_cubes.cubeDepth[motifs[i,3]]])\n",
    "    plot3d!(motif.lons,motif.lats,-motif.deps, JZ=\"6c\", proj=:merc, L=true, G=:red, alpha=50, view=(135,20))\n",
    "end\n",
    "\n",
    "# Colorbar\n",
    "colorbar!(pos=(outcell_size=:BC, offset=(0,1.5)), shade=0.4, JZ=\"6c\", xaxis=(annot=:auto,), frame=(xlabel=\"Degree\",),par=(MAP_LABEL_OFFSET=0.8,))\n",
    "\n",
    "# Relief map\n",
    "grdview!(relief_map, proj=:merc, surftype=(image=2000,), \n",
    "cmap=C_map, zsize=0.05, alpha=10 ,yshift=5.6, view=(135,20),\n",
    "savefig=\"./networks/$region/cell_size_$(cell_size)km/$(region)_cell_size_$(cell_size)km_minmag_$(minimum_magnitude).png\", \n",
    "show=true)"
   ]
  },
  {
   "cell_type": "code",
   "execution_count": null,
   "metadata": {},
   "outputs": [],
   "source": []
  }
 ],
 "metadata": {
  "kernelspec": {
   "display_name": "Julia 1.8.5",
   "language": "julia",
   "name": "julia-1.8"
  },
  "language_info": {
   "file_extension": ".jl",
   "mimetype": "application/julia",
   "name": "julia",
   "version": "1.8.5"
  },
  "orig_nbformat": 4
 },
 "nbformat": 4,
 "nbformat_minor": 2
}
